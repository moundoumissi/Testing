{
 "cells": [
  {
   "cell_type": "code",
   "execution_count": 53,
   "id": "c80a5ada",
   "metadata": {},
   "outputs": [
    {
     "name": "stderr",
     "output_type": "stream",
     "text": [
      "[nltk_data] Downloading package punkt to\n",
      "[nltk_data]     /Users/moundoumissi/nltk_data...\n",
      "[nltk_data]   Package punkt is already up-to-date!\n",
      "[nltk_data] Downloading package stopwords to\n",
      "[nltk_data]     /Users/moundoumissi/nltk_data...\n",
      "[nltk_data]   Package stopwords is already up-to-date!\n"
     ]
    },
    {
     "data": {
      "text/plain": [
       "True"
      ]
     },
     "execution_count": 53,
     "metadata": {},
     "output_type": "execute_result"
    }
   ],
   "source": [
    "# import the jaro library, used for computing the distance between two strings\n",
    "import jaro\n",
    "\n",
    "# Import the natural language toolkit\n",
    "import nltk\n",
    "nltk.download('punkt')\n",
    "from nltk import word_tokenize,sent_tokenize\n",
    "\n",
    "from nltk.corpus import stopwords\n",
    "nltk.download('stopwords')"
   ]
  },
  {
   "cell_type": "code",
   "execution_count": 54,
   "id": "b1db507b",
   "metadata": {},
   "outputs": [],
   "source": [
    "# Get the list of keywords - to be taken from formal entities\n",
    "lst_words = ['terrorist', 'war']"
   ]
  },
  {
   "cell_type": "code",
   "execution_count": 55,
   "id": "f7cae539",
   "metadata": {},
   "outputs": [],
   "source": [
    "# Remove words in stopwords that are also in the list of keywords\n",
    "stop_words = list(set(stopwords.words()) - set(lst_words))"
   ]
  },
  {
   "cell_type": "code",
   "execution_count": 56,
   "id": "564a12a6",
   "metadata": {},
   "outputs": [],
   "source": [
    "# Define a function that put strings into lowercase\n",
    "def str_lower(lst_words):\n",
    "    return [word.lower() for word in lst_words]"
   ]
  },
  {
   "cell_type": "code",
   "execution_count": 72,
   "id": "b488a09e",
   "metadata": {},
   "outputs": [],
   "source": [
    "# Define the function that splits a sentence into individual words and delete stop words and numeric values\n",
    "def phrase_split(sentence):\n",
    "    # Use the package to split words\n",
    "    words = nltk.word_tokenize(sentence)\n",
    "    \n",
    "    # Remove stop words and punctuations from list\n",
    "    tokens_wo_sw = [word for word in words if (word.isalpha()) & (not word in stop_words)]\n",
    "    \n",
    "    # Remove punctuations\n",
    "    #tokens_wo_pc = [word for word in tokens_wo_sw if word.isalpha()]\n",
    "    \n",
    "    # Put every remaining word in lowercase\n",
    "    final_tokens = str_lower(tokens_wo_sw)\n",
    "    \n",
    "    # Return a list of words\n",
    "    return final_tokens"
   ]
  },
  {
   "cell_type": "code",
   "execution_count": 73,
   "id": "ca8a1d3c",
   "metadata": {},
   "outputs": [
    {
     "data": {
      "text/plain": [
       "['i', 'boy', 'that', 'mom']"
      ]
     },
     "execution_count": 73,
     "metadata": {},
     "output_type": "execute_result"
    }
   ],
   "source": [
    "phrase_split('I am a good boy. That\\'s what my mom says.')"
   ]
  },
  {
   "cell_type": "code",
   "execution_count": 80,
   "id": "68cffc9b",
   "metadata": {},
   "outputs": [],
   "source": [
    "# Define a function that takes in a sentence and a list of keywords\n",
    "def matching(sentence, lst_words, thres=0.95):\n",
    "    # Put the words in the list of keywords in lowercase\n",
    "    lst_words = str_lower(lst_words)\n",
    "    \n",
    "    # split the sentence into words\n",
    "    words = phrase_split(sentence)\n",
    "    \n",
    "    # Create an empty dictionary\n",
    "    sus_dict = dict()\n",
    "    \n",
    "    # Check if any word within our original sentence is similar to any of the given words in the list of words\n",
    "    for word in words:\n",
    "        for keyword in lst_words:\n",
    "            jr_sim = round(jaro.jaro_winkler_metric(word, keyword), 2)\n",
    "            if jr_sim >= thres:\n",
    "                sus_dict[(word, keyword)] = jr_sim\n",
    "    \n",
    "    if sus_dict:\n",
    "        print('Transaction flagged')\n",
    "    # Return the dictionary\n",
    "    return sus_dict\n"
   ]
  },
  {
   "cell_type": "code",
   "execution_count": 82,
   "id": "2de54fbe",
   "metadata": {},
   "outputs": [
    {
     "name": "stdout",
     "output_type": "stream",
     "text": [
      "Transaction flagged\n"
     ]
    },
    {
     "data": {
      "text/plain": [
       "{('terroris', 'terrorist'): 0.98, ('war', 'war'): 1.0}"
      ]
     },
     "execution_count": 82,
     "metadata": {},
     "output_type": "execute_result"
    }
   ],
   "source": [
    "matching('Sending money to a terroris org for funding a war.', ['terrorist', 'war'])"
   ]
  }
 ],
 "metadata": {
  "kernelspec": {
   "display_name": "Python 3 (ipykernel)",
   "language": "python",
   "name": "python3"
  },
  "language_info": {
   "codemirror_mode": {
    "name": "ipython",
    "version": 3
   },
   "file_extension": ".py",
   "mimetype": "text/x-python",
   "name": "python",
   "nbconvert_exporter": "python",
   "pygments_lexer": "ipython3",
   "version": "3.9.13"
  }
 },
 "nbformat": 4,
 "nbformat_minor": 5
}
